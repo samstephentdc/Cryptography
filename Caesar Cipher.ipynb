{
 "cells": [
  {
   "cell_type": "code",
   "execution_count": 1,
   "metadata": {},
   "outputs": [],
   "source": [
    "# Each input plain text is replaced by a another text using the fixed number positions of alphabet"
   ]
  },
  {
   "cell_type": "code",
   "execution_count": 16,
   "metadata": {},
   "outputs": [
    {
     "name": "stdout",
     "output_type": "stream",
     "text": [
      "plain text:samstephen\n",
      "Shift pattern:4\n",
      "cipher text:weqwxitlir\n"
     ]
    }
   ],
   "source": [
    "def encrypt(data,s):\n",
    "    result = \"\"\n",
    "    for i in range(len(data)):\n",
    "        char = data[i]\n",
    "        \n",
    "        if (char.isupper()):\n",
    "            result += chr((ord(char) + s - 65) % 26+65)\n",
    "        else:\n",
    "            result += chr((ord(char) + s-97) % 26+97)\n",
    "    return result\n",
    "        \n",
    "        \n",
    "data = 'samstephen'\n",
    "s = 4\n",
    "\n",
    "print(\"plain text:\" + data)\n",
    "print(\"Shift pattern:\" + str(s))\n",
    "print(\"cipher text:\" + encrypt(data,s))"
   ]
  },
  {
   "cell_type": "code",
   "execution_count": null,
   "metadata": {},
   "outputs": [],
   "source": []
  },
  {
   "cell_type": "code",
   "execution_count": null,
   "metadata": {},
   "outputs": [],
   "source": []
  }
 ],
 "metadata": {
  "kernelspec": {
   "display_name": "Python 3",
   "language": "python",
   "name": "python3"
  },
  "language_info": {
   "codemirror_mode": {
    "name": "ipython",
    "version": 3
   },
   "file_extension": ".py",
   "mimetype": "text/x-python",
   "name": "python",
   "nbconvert_exporter": "python",
   "pygments_lexer": "ipython3",
   "version": "3.6.5"
  }
 },
 "nbformat": 4,
 "nbformat_minor": 2
}
