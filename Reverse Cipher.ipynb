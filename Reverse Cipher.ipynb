{
 "cells": [
  {
   "cell_type": "code",
   "execution_count": 1,
   "metadata": {},
   "outputs": [],
   "source": [
    "# The process of reversing the string of plain text is called REVERSE CIPHER"
   ]
  },
  {
   "cell_type": "code",
   "execution_count": 5,
   "metadata": {},
   "outputs": [
    {
     "name": "stdout",
     "output_type": "stream",
     "text": [
      "The input text is samstephentdc\n",
      "The cipher text is cdtnehpetsmas\n"
     ]
    }
   ],
   "source": [
    "data = 'samstephentdc'\n",
    "ciphertext = \"\" # output\n",
    "#count the length of input data \n",
    "#enter length-1 as place value of python starts from 0\n",
    "i = len(data)-1\n",
    "\n",
    "while i>=0:\n",
    "    ciphertext = ciphertext + data[i]\n",
    "    i=i-1 # decrementing the i value\n",
    "print(\"The input text is\",data)\n",
    "print(\"The cipher text is\",ciphertext)\n"
   ]
  },
  {
   "cell_type": "code",
   "execution_count": null,
   "metadata": {},
   "outputs": [],
   "source": []
  }
 ],
 "metadata": {
  "kernelspec": {
   "display_name": "Python 3",
   "language": "python",
   "name": "python3"
  },
  "language_info": {
   "codemirror_mode": {
    "name": "ipython",
    "version": 3
   },
   "file_extension": ".py",
   "mimetype": "text/x-python",
   "name": "python",
   "nbconvert_exporter": "python",
   "pygments_lexer": "ipython3",
   "version": "3.6.5"
  }
 },
 "nbformat": 4,
 "nbformat_minor": 2
}
